{
  "nbformat": 4,
  "nbformat_minor": 0,
  "metadata": {
    "colab": {
      "provenance": []
    },
    "kernelspec": {
      "name": "python3",
      "display_name": "Python 3"
    },
    "language_info": {
      "name": "python"
    }
  },
  "cells": [
    {
      "cell_type": "code",
      "source": [
        "!pip install torch_geometric"
      ],
      "metadata": {
        "colab": {
          "base_uri": "https://localhost:8080/"
        },
        "id": "w26xhC0eFvjL",
        "outputId": "877fcc8f-db6f-4a09-ef2c-3271ecbd9abb"
      },
      "execution_count": 3,
      "outputs": [
        {
          "output_type": "stream",
          "name": "stdout",
          "text": [
            "Collecting torch_geometric\n",
            "  Downloading torch_geometric-2.6.1-py3-none-any.whl.metadata (63 kB)\n",
            "\u001b[?25l     \u001b[90m━━━━━━━━━━━━━━━━━━━━━━━━━━━━━━━━━━━━━━━━\u001b[0m \u001b[32m0.0/63.1 kB\u001b[0m \u001b[31m?\u001b[0m eta \u001b[36m-:--:--\u001b[0m\r\u001b[2K     \u001b[90m━━━━━━━━━━━━━━━━━━━━━━━━━━━━━━━━━━━━━━━━\u001b[0m \u001b[32m63.1/63.1 kB\u001b[0m \u001b[31m1.8 MB/s\u001b[0m eta \u001b[36m0:00:00\u001b[0m\n",
            "\u001b[?25hRequirement already satisfied: aiohttp in /usr/local/lib/python3.10/dist-packages (from torch_geometric) (3.10.10)\n",
            "Requirement already satisfied: fsspec in /usr/local/lib/python3.10/dist-packages (from torch_geometric) (2024.10.0)\n",
            "Requirement already satisfied: jinja2 in /usr/local/lib/python3.10/dist-packages (from torch_geometric) (3.1.4)\n",
            "Requirement already satisfied: numpy in /usr/local/lib/python3.10/dist-packages (from torch_geometric) (1.26.4)\n",
            "Requirement already satisfied: psutil>=5.8.0 in /usr/local/lib/python3.10/dist-packages (from torch_geometric) (5.9.5)\n",
            "Requirement already satisfied: pyparsing in /usr/local/lib/python3.10/dist-packages (from torch_geometric) (3.2.0)\n",
            "Requirement already satisfied: requests in /usr/local/lib/python3.10/dist-packages (from torch_geometric) (2.32.3)\n",
            "Requirement already satisfied: tqdm in /usr/local/lib/python3.10/dist-packages (from torch_geometric) (4.66.6)\n",
            "Requirement already satisfied: aiohappyeyeballs>=2.3.0 in /usr/local/lib/python3.10/dist-packages (from aiohttp->torch_geometric) (2.4.3)\n",
            "Requirement already satisfied: aiosignal>=1.1.2 in /usr/local/lib/python3.10/dist-packages (from aiohttp->torch_geometric) (1.3.1)\n",
            "Requirement already satisfied: attrs>=17.3.0 in /usr/local/lib/python3.10/dist-packages (from aiohttp->torch_geometric) (24.2.0)\n",
            "Requirement already satisfied: frozenlist>=1.1.1 in /usr/local/lib/python3.10/dist-packages (from aiohttp->torch_geometric) (1.5.0)\n",
            "Requirement already satisfied: multidict<7.0,>=4.5 in /usr/local/lib/python3.10/dist-packages (from aiohttp->torch_geometric) (6.1.0)\n",
            "Requirement already satisfied: yarl<2.0,>=1.12.0 in /usr/local/lib/python3.10/dist-packages (from aiohttp->torch_geometric) (1.17.0)\n",
            "Requirement already satisfied: async-timeout<5.0,>=4.0 in /usr/local/lib/python3.10/dist-packages (from aiohttp->torch_geometric) (4.0.3)\n",
            "Requirement already satisfied: MarkupSafe>=2.0 in /usr/local/lib/python3.10/dist-packages (from jinja2->torch_geometric) (3.0.2)\n",
            "Requirement already satisfied: charset-normalizer<4,>=2 in /usr/local/lib/python3.10/dist-packages (from requests->torch_geometric) (3.4.0)\n",
            "Requirement already satisfied: idna<4,>=2.5 in /usr/local/lib/python3.10/dist-packages (from requests->torch_geometric) (3.10)\n",
            "Requirement already satisfied: urllib3<3,>=1.21.1 in /usr/local/lib/python3.10/dist-packages (from requests->torch_geometric) (2.2.3)\n",
            "Requirement already satisfied: certifi>=2017.4.17 in /usr/local/lib/python3.10/dist-packages (from requests->torch_geometric) (2024.8.30)\n",
            "Requirement already satisfied: typing-extensions>=4.1.0 in /usr/local/lib/python3.10/dist-packages (from multidict<7.0,>=4.5->aiohttp->torch_geometric) (4.12.2)\n",
            "Requirement already satisfied: propcache>=0.2.0 in /usr/local/lib/python3.10/dist-packages (from yarl<2.0,>=1.12.0->aiohttp->torch_geometric) (0.2.0)\n",
            "Downloading torch_geometric-2.6.1-py3-none-any.whl (1.1 MB)\n",
            "\u001b[2K   \u001b[90m━━━━━━━━━━━━━━━━━━━━━━━━━━━━━━━━━━━━━━━━\u001b[0m \u001b[32m1.1/1.1 MB\u001b[0m \u001b[31m17.1 MB/s\u001b[0m eta \u001b[36m0:00:00\u001b[0m\n",
            "\u001b[?25hInstalling collected packages: torch_geometric\n",
            "Successfully installed torch_geometric-2.6.1\n"
          ]
        }
      ]
    },
    {
      "cell_type": "code",
      "execution_count": 4,
      "metadata": {
        "id": "jOAWwSbI-F0m"
      },
      "outputs": [],
      "source": [
        "import networkx as nx\n",
        "import torch\n",
        "import os\n",
        "import pandas as pd\n",
        "from torch_geometric.data import Data"
      ]
    },
    {
      "cell_type": "code",
      "source": [
        "# process data\n",
        "# each node is a team (for a year), edges\n",
        "game_info = pd.read_csv(\"nfl-game-info.csv\")\n",
        "team_info = pd.read_csv(\"team_stats_2003_2023.csv\")\n",
        "\n",
        "teams = pd.concat([game_info['Home Team'], game_info['Away Team']]).unique()\n",
        "print(teams)\n",
        "team_to_idx = {team: i for i, team in enumerate(teams)}\n",
        "\n",
        "edge_index = []\n",
        "edge_attr = []\n",
        "\n",
        "for _, row in game_info.iterrows():\n",
        "  if \"2024\" not in row[\"Date\"]:\n",
        "    break\n",
        "  # create an edge between two teams,\n",
        "  team1_idx = team_to_idx[row['Home Team']]\n",
        "  team2_idx = team_to_idx[row['Away Team']]\n",
        "\n",
        "  # Add an undirected edge (team1 -> team2 and team2 -> team1)\n",
        "  edge_index.append([team1_idx, team2_idx])\n",
        "  edge_index.append([team2_idx, team1_idx])\n",
        "\n",
        "  edge_attr.append([row[\"Home Score\"], row[\"Away Score\"]])\n",
        "  edge_attr.append([row[\"Away Score\"], row[\"Home Score\"]])\n",
        "\n",
        "edge_index = torch.tensor(edge_index, dtype=torch.long).t().contiguous()\n",
        "edge_attr = torch.tensor(edge_attr, dtype=torch.float)\n",
        "\n",
        "data = Data(edge_index=edge_index, edge_attr=edge_attr, num_nodes=len(teams))\n",
        "print(data)"
      ],
      "metadata": {
        "colab": {
          "base_uri": "https://localhost:8080/"
        },
        "id": "heNyX0Jq-O1J",
        "outputId": "b56e06c0-23ce-45ba-c8ca-e3c860c8867f"
      },
      "execution_count": 10,
      "outputs": [
        {
          "output_type": "stream",
          "name": "stdout",
          "text": [
            "['Pittsburgh Steelers' 'San Francisco 49ers' 'Denver Broncos'\n",
            " 'Las Vegas Raiders' 'Washington Commanders' 'Los Angeles Chargers'\n",
            " 'Seattle Seahawks' 'Cincinnati Bengals' 'Cleveland Browns'\n",
            " 'Detroit Lions' 'Houston Texans' 'Jacksonville Jaguars' 'Miami Dolphins'\n",
            " 'New England Patriots' 'Tampa Bay Buccaneers' 'Los Angeles Rams'\n",
            " 'Arizona Cardinals' 'Atlanta Falcons' 'Buffalo Bills' 'Green Bay Packers'\n",
            " 'Indianapolis Colts' 'Minnesota Vikings' 'New York Giants'\n",
            " 'New Orleans Saints' 'New York Jets' 'Carolina Panthers' 'Dallas Cowboys'\n",
            " 'Baltimore Ravens' 'Philadelphia Eagles' 'Tennessee Titans'\n",
            " 'Chicago Bears' 'Kansas City Chiefs' 'Washington Football Team'\n",
            " 'Washington Redskins' 'Oakland Raiders' 'San Diego Chargers'\n",
            " 'St. Louis Rams']\n",
            "Data(edge_index=[2, 304], edge_attr=[304, 2], num_nodes=37)\n"
          ]
        }
      ]
    },
    {
      "cell_type": "code",
      "source": [],
      "metadata": {
        "id": "S5ql9JiKOW4c"
      },
      "execution_count": null,
      "outputs": []
    }
  ]
}